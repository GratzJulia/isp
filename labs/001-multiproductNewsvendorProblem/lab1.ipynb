{
 "cells": [
  {
   "cell_type": "code",
   "execution_count": 11,
   "metadata": {},
   "outputs": [],
   "source": [
    "import pandas as pd\n",
    "import os\n",
    "current_path = os.path.join(os.getcwd(), 'samples.xlsx')\n"
   ]
  },
  {
   "cell_type": "code",
   "execution_count": 12,
   "metadata": {},
   "outputs": [
    {
     "data": {
      "text/html": [
       "<div>\n",
       "<style scoped>\n",
       "    .dataframe tbody tr th:only-of-type {\n",
       "        vertical-align: middle;\n",
       "    }\n",
       "\n",
       "    .dataframe tbody tr th {\n",
       "        vertical-align: top;\n",
       "    }\n",
       "\n",
       "    .dataframe thead th {\n",
       "        text-align: right;\n",
       "    }\n",
       "</style>\n",
       "<table border=\"1\" class=\"dataframe\">\n",
       "  <thead>\n",
       "    <tr style=\"text-align: right;\">\n",
       "      <th></th>\n",
       "      <th>newspaper1</th>\n",
       "      <th>newspaper2</th>\n",
       "      <th>magazine</th>\n",
       "      <th>pack</th>\n",
       "    </tr>\n",
       "  </thead>\n",
       "  <tbody>\n",
       "    <tr>\n",
       "      <th>0</th>\n",
       "      <td>13</td>\n",
       "      <td>53</td>\n",
       "      <td>103</td>\n",
       "      <td>5</td>\n",
       "    </tr>\n",
       "    <tr>\n",
       "      <th>1</th>\n",
       "      <td>45</td>\n",
       "      <td>17</td>\n",
       "      <td>30</td>\n",
       "      <td>16</td>\n",
       "    </tr>\n",
       "    <tr>\n",
       "      <th>2</th>\n",
       "      <td>22</td>\n",
       "      <td>38</td>\n",
       "      <td>53</td>\n",
       "      <td>14</td>\n",
       "    </tr>\n",
       "    <tr>\n",
       "      <th>3</th>\n",
       "      <td>18</td>\n",
       "      <td>33</td>\n",
       "      <td>121</td>\n",
       "      <td>11</td>\n",
       "    </tr>\n",
       "    <tr>\n",
       "      <th>4</th>\n",
       "      <td>36</td>\n",
       "      <td>9</td>\n",
       "      <td>26</td>\n",
       "      <td>14</td>\n",
       "    </tr>\n",
       "  </tbody>\n",
       "</table>\n",
       "</div>"
      ],
      "text/plain": [
       "   newspaper1  newspaper2  magazine  pack\n",
       "0          13          53       103     5\n",
       "1          45          17        30    16\n",
       "2          22          38        53    14\n",
       "3          18          33       121    11\n",
       "4          36           9        26    14"
      ]
     },
     "execution_count": 12,
     "metadata": {},
     "output_type": "execute_result"
    }
   ],
   "source": [
    "csv = pd.read_excel(current_path)\n",
    "csv.head()"
   ]
  },
  {
   "cell_type": "code",
   "execution_count": 13,
   "metadata": {},
   "outputs": [
    {
     "data": {
      "text/html": [
       "<div>\n",
       "<style scoped>\n",
       "    .dataframe tbody tr th:only-of-type {\n",
       "        vertical-align: middle;\n",
       "    }\n",
       "\n",
       "    .dataframe tbody tr th {\n",
       "        vertical-align: top;\n",
       "    }\n",
       "\n",
       "    .dataframe thead th {\n",
       "        text-align: right;\n",
       "    }\n",
       "</style>\n",
       "<table border=\"1\" class=\"dataframe\">\n",
       "  <thead>\n",
       "    <tr style=\"text-align: right;\">\n",
       "      <th></th>\n",
       "      <th>newspaper1</th>\n",
       "      <th>newspaper2</th>\n",
       "      <th>magazine</th>\n",
       "      <th>pack</th>\n",
       "    </tr>\n",
       "  </thead>\n",
       "  <tbody>\n",
       "    <tr>\n",
       "      <th>count</th>\n",
       "      <td>1000.000000</td>\n",
       "      <td>1000.000000</td>\n",
       "      <td>1000.000000</td>\n",
       "      <td>1000.000000</td>\n",
       "    </tr>\n",
       "    <tr>\n",
       "      <th>mean</th>\n",
       "      <td>22.519000</td>\n",
       "      <td>33.281000</td>\n",
       "      <td>45.854000</td>\n",
       "      <td>11.342000</td>\n",
       "    </tr>\n",
       "    <tr>\n",
       "      <th>std</th>\n",
       "      <td>11.778726</td>\n",
       "      <td>17.473104</td>\n",
       "      <td>25.767511</td>\n",
       "      <td>5.652343</td>\n",
       "    </tr>\n",
       "    <tr>\n",
       "      <th>min</th>\n",
       "      <td>5.000000</td>\n",
       "      <td>7.000000</td>\n",
       "      <td>10.000000</td>\n",
       "      <td>2.000000</td>\n",
       "    </tr>\n",
       "    <tr>\n",
       "      <th>25%</th>\n",
       "      <td>14.000000</td>\n",
       "      <td>21.000000</td>\n",
       "      <td>28.000000</td>\n",
       "      <td>7.000000</td>\n",
       "    </tr>\n",
       "    <tr>\n",
       "      <th>50%</th>\n",
       "      <td>20.000000</td>\n",
       "      <td>30.000000</td>\n",
       "      <td>40.000000</td>\n",
       "      <td>10.000000</td>\n",
       "    </tr>\n",
       "    <tr>\n",
       "      <th>75%</th>\n",
       "      <td>27.000000</td>\n",
       "      <td>41.000000</td>\n",
       "      <td>57.000000</td>\n",
       "      <td>14.000000</td>\n",
       "    </tr>\n",
       "    <tr>\n",
       "      <th>max</th>\n",
       "      <td>92.000000</td>\n",
       "      <td>175.000000</td>\n",
       "      <td>237.000000</td>\n",
       "      <td>42.000000</td>\n",
       "    </tr>\n",
       "  </tbody>\n",
       "</table>\n",
       "</div>"
      ],
      "text/plain": [
       "        newspaper1   newspaper2     magazine         pack\n",
       "count  1000.000000  1000.000000  1000.000000  1000.000000\n",
       "mean     22.519000    33.281000    45.854000    11.342000\n",
       "std      11.778726    17.473104    25.767511     5.652343\n",
       "min       5.000000     7.000000    10.000000     2.000000\n",
       "25%      14.000000    21.000000    28.000000     7.000000\n",
       "50%      20.000000    30.000000    40.000000    10.000000\n",
       "75%      27.000000    41.000000    57.000000    14.000000\n",
       "max      92.000000   175.000000   237.000000    42.000000"
      ]
     },
     "execution_count": 13,
     "metadata": {},
     "output_type": "execute_result"
    }
   ],
   "source": [
    "csv.describe()"
   ]
  },
  {
   "cell_type": "markdown",
   "metadata": {},
   "source": [
    "## Constantes:\n",
    "\n",
    "desconto_pacote : 8% = 0.08 (1 - 0.08 = 0.92, valor inserido direto na FO)\n",
    "\n",
    "cj, 𝑐𝑚: Custo de compra do jornal mais caro e da revista.\n",
    "\n",
    "v𝑗, v𝑚: Preço de venda do jornal mais caro e da revista.\n",
    "\n",
    "D: Demanda incerta = Cenários D.\n",
    "\n",
    "𝑟𝑗: Fração do custo de retorno recuperado para os jornais (valor inserido direto na FO).\n",
    "\n",
    "B: Orçamento disponível.\n",
    "\n",
    "S: Capacidade total da prateleira.\n",
    "\n",
    "𝑠𝑗, 𝑠𝑚: Espaço ocupado por um jornal e por uma revista na prateleira."
   ]
  },
  {
   "cell_type": "code",
   "execution_count": null,
   "metadata": {},
   "outputs": [],
   "source": [
    "D = csv.values\n",
    "produtos = ['j1', 'j2', 'magazine']\n",
    "\n",
    "orcamento = 1000\n",
    "capacidade = 500\n",
    "espaco = {\"j1\": 1, \"j2\": 1, \"mag\": 1.5}\n",
    "\n",
    "custo_j = 1\n",
    "custo_m = 4.0\n",
    "\n",
    "venda_j = 1.5\n",
    "venda_m = 5.0"
   ]
  },
  {
   "cell_type": "markdown",
   "metadata": {},
   "source": [
    "## Variáveis de decisão:\n",
    "\n",
    "### - Estágio 1\n",
    "\n",
    "compra_j1 : Quantidade de jornal 1 comprada.\n",
    "\n",
    "compra_j2 : Quantidade de jornal 2 comprada.\n",
    "\n",
    "compra_magazine : Quantidade de revistas compradas.\n",
    "\n",
    "### - Estágio 2\n",
    "\n",
    "venda_j1 : Quantidade de jornal 1 vendido.\n",
    "\n",
    "venda_j2 : Quantidade de jornal 2 vendido.\n",
    "\n",
    "venda_magazine : Quantidade de revistas vendidas.\n",
    "\n",
    "venda_pacote : Quantidade de pacotes vendidos.\n",
    "\n",
    "retorno_j1 = Quantidade de jornal 1 não vendida e retornada.\n",
    "\n",
    "retorno_j2 = Quantidade de jornal 2 não vendida e retornada."
   ]
  },
  {
   "cell_type": "markdown",
   "metadata": {},
   "source": [
    "### Func Obj\n",
    "\n",
    "Lucro = Receita + Reembolso por devolução − Custo de compra\n",
    "\n",
    "$$\n",
    "\n",
    "\\max \\sum_{D} p(D) \\Bigg[ (0.9 \\cdot v_{j}) \\cdot \\textbf{venda\\_j1}^D + v_{j} \\cdot \\textbf{venda\\_j2}^D + v_m \\cdot \\textbf{venda\\_magazine}^D + (0.92 \\cdot (v_{j} + v_m)) \\cdot \\textbf{venda\\_pacote}^D \\\\\n",
    " + (0.1 \\cdot (0.9 \\cdot c_{j})) \\cdot \\textbf{retorno\\_j1}^D + (0.4 \\cdot c_{j}) \\cdot \\textbf{retorno\\_j2}^D \\Bigg] \\\\ \n",
    " - \\Bigg[ (0.9 \\cdot c_{j}) \\cdot \\textbf{compra\\_j1} + c_{j} \\cdot \\textbf{compra\\_j2} + c_m \\cdot \\textbf{compra\\_magazine} \\Bigg]\n",
    "\n",
    "$$"
   ]
  },
  {
   "cell_type": "code",
   "execution_count": null,
   "metadata": {},
   "outputs": [
    {
     "name": "stdout",
     "output_type": "stream",
     "text": [
      "Restricted license - for non-production use only - expires 2026-11-23\n"
     ]
    }
   ],
   "source": [
    "from gurobipy import Model, GRB\n",
    "\n",
    "model = Model(\"model\")\n",
    "\n",
    "compra = model.addVars(produtos, vtype=GRB.INTEGER, name=\"compra\")\n",
    "venda = model.addVars(produtos + ['pack'], vtype=GRB.INTEGER, name=\"venda\")\n",
    "retorno = model.addVars(['j1', 'j2'], vtype=GRB.INTEGER, name=\"retorno\")\n",
    "\n",
    "# FO:\n",
    "lucro_esperado = (\n",
    "    0.9*venda_j * venda['j1'] + venda_j * venda['j2'] + venda_m * venda['magazine'] + 0.92*(venda_j + venda_m) * venda['pack'] +\n",
    "    0.1 * 0.9*venda_j * retorno['j1'] + 0.4*custo_j * retorno['j2'] -\n",
    "    (0.9 * custo_j * compra['j1'] + custo_j * compra['j2'] + custo_m * compra['magazine'])\n",
    ")\n",
    "model.setObjective(lucro_esperado, GRB.MAXIMIZE)\n",
    "\n",
    "# Restricoes:\n",
    "model.addConstr(0.9*custo_j * compra['j1'] + custo_j * compra['j2'] + custo_m * compra['magazine'] <= orcamento)\n",
    "model.addConstr(espaco[\"j1\"] * (compra['j1'] + compra['j2']) + espaco[\"mag\"] * compra['magazine'] <= capacidade)\n",
    "model.addConstr(venda['j1'] + retorno['j1'] <= compra['j1'])\n",
    "model.addConstr(venda['j2'] + retorno['j2'] + venda['pack'] <= compra['j2'])\n",
    "model.addConstr(venda['magazine'] + venda['pack'] <= compra['magazine'])\n",
    "model.addConstr(venda['j2'] + venda['pack'] <= compra['j2'])\n",
    "\n",
    "model.write(\"model.lp\")"
   ]
  },
  {
   "cell_type": "code",
   "execution_count": 17,
   "metadata": {},
   "outputs": [
    {
     "name": "stdout",
     "output_type": "stream",
     "text": [
      "Gurobi Optimizer version 12.0.1 build v12.0.1rc0 (win64 - Windows 10.0 (19045.2))\n",
      "\n",
      "CPU model: 11th Gen Intel(R) Core(TM) i5-1135G7 @ 2.40GHz, instruction set [SSE2|AVX|AVX2|AVX512]\n",
      "Thread count: 4 physical cores, 8 logical processors, using up to 8 threads\n",
      "\n",
      "Optimize a model with 6 rows, 9 columns and 19 nonzeros\n",
      "Model fingerprint: 0xcaba0862\n",
      "Variable types: 0 continuous, 9 integer (0 binary)\n",
      "Coefficient statistics:\n",
      "  Matrix range     [9e-01, 4e+00]\n",
      "  Objective range  [1e-01, 6e+00]\n",
      "  Bounds range     [0e+00, 0e+00]\n",
      "  RHS range        [5e+02, 1e+03]\n",
      "Found heuristic solution: objective -0.0000000\n",
      "Presolve removed 4 rows and 6 columns\n",
      "Presolve time: 0.00s\n",
      "Presolved: 2 rows, 3 columns, 6 nonzeros\n",
      "Variable types: 0 continuous, 3 integer (0 binary)\n",
      "Found heuristic solution: objective 225.0000000\n",
      "\n",
      "Root relaxation: objective 3.000000e+02, 2 iterations, 0.00 seconds (0.00 work units)\n",
      "\n",
      "    Nodes    |    Current Node    |     Objective Bounds      |     Work\n",
      " Expl Unexpl |  Obj  Depth IntInf | Incumbent    BestBd   Gap | It/Node Time\n",
      "\n",
      "*    0     0               0     300.0000000  300.00000  0.00%     -    0s\n",
      "\n",
      "Explored 1 nodes (2 simplex iterations) in 0.01 seconds (0.00 work units)\n",
      "Thread count was 8 (of 8 available processors)\n",
      "\n",
      "Solution count 3: 300 225 -0 \n",
      "\n",
      "Optimal solution found (tolerance 1.00e-04)\n",
      "Best objective 3.000000000000e+02, best bound 3.000000000000e+02, gap 0.0000%\n"
     ]
    }
   ],
   "source": [
    "model.optimize()"
   ]
  },
  {
   "cell_type": "code",
   "execution_count": 18,
   "metadata": {},
   "outputs": [
    {
     "data": {
      "text/plain": [
       "[<gurobi.Var compra[j1] (value -0.0)>,\n",
       " <gurobi.Var compra[j2] (value 200.0)>,\n",
       " <gurobi.Var compra[magazine] (value 200.0)>,\n",
       " <gurobi.Var venda[j1] (value 0.0)>,\n",
       " <gurobi.Var venda[j2] (value 200.0)>,\n",
       " <gurobi.Var venda[magazine] (value 200.0)>,\n",
       " <gurobi.Var venda[pack] (value -0.0)>,\n",
       " <gurobi.Var retorno[j1] (value -0.0)>,\n",
       " <gurobi.Var retorno[j2] (value -0.0)>]"
      ]
     },
     "execution_count": 18,
     "metadata": {},
     "output_type": "execute_result"
    }
   ],
   "source": [
    "model.getVars()"
   ]
  }
 ],
 "metadata": {
  "kernelspec": {
   "display_name": ".env",
   "language": "python",
   "name": "python3"
  },
  "language_info": {
   "codemirror_mode": {
    "name": "ipython",
    "version": 3
   },
   "file_extension": ".py",
   "mimetype": "text/x-python",
   "name": "python",
   "nbconvert_exporter": "python",
   "pygments_lexer": "ipython3",
   "version": "3.10.2"
  }
 },
 "nbformat": 4,
 "nbformat_minor": 2
}

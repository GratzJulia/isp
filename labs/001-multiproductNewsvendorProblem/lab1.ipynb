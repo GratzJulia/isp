{
 "cells": [
  {
   "cell_type": "code",
   "execution_count": 73,
   "metadata": {},
   "outputs": [],
   "source": [
    "import pandas as pd\n",
    "import os\n",
    "current_path = os.path.join(os.getcwd(), 'samples.xlsx')\n"
   ]
  },
  {
   "cell_type": "code",
   "execution_count": 74,
   "metadata": {},
   "outputs": [
    {
     "data": {
      "text/html": [
       "<div>\n",
       "<style scoped>\n",
       "    .dataframe tbody tr th:only-of-type {\n",
       "        vertical-align: middle;\n",
       "    }\n",
       "\n",
       "    .dataframe tbody tr th {\n",
       "        vertical-align: top;\n",
       "    }\n",
       "\n",
       "    .dataframe thead th {\n",
       "        text-align: right;\n",
       "    }\n",
       "</style>\n",
       "<table border=\"1\" class=\"dataframe\">\n",
       "  <thead>\n",
       "    <tr style=\"text-align: right;\">\n",
       "      <th></th>\n",
       "      <th>newspaper1</th>\n",
       "      <th>newspaper2</th>\n",
       "      <th>magazine</th>\n",
       "      <th>pack</th>\n",
       "    </tr>\n",
       "  </thead>\n",
       "  <tbody>\n",
       "    <tr>\n",
       "      <th>0</th>\n",
       "      <td>13</td>\n",
       "      <td>53</td>\n",
       "      <td>103</td>\n",
       "      <td>5</td>\n",
       "    </tr>\n",
       "    <tr>\n",
       "      <th>1</th>\n",
       "      <td>45</td>\n",
       "      <td>17</td>\n",
       "      <td>30</td>\n",
       "      <td>16</td>\n",
       "    </tr>\n",
       "    <tr>\n",
       "      <th>2</th>\n",
       "      <td>22</td>\n",
       "      <td>38</td>\n",
       "      <td>53</td>\n",
       "      <td>14</td>\n",
       "    </tr>\n",
       "    <tr>\n",
       "      <th>3</th>\n",
       "      <td>18</td>\n",
       "      <td>33</td>\n",
       "      <td>121</td>\n",
       "      <td>11</td>\n",
       "    </tr>\n",
       "    <tr>\n",
       "      <th>4</th>\n",
       "      <td>36</td>\n",
       "      <td>9</td>\n",
       "      <td>26</td>\n",
       "      <td>14</td>\n",
       "    </tr>\n",
       "  </tbody>\n",
       "</table>\n",
       "</div>"
      ],
      "text/plain": [
       "   newspaper1  newspaper2  magazine  pack\n",
       "0          13          53       103     5\n",
       "1          45          17        30    16\n",
       "2          22          38        53    14\n",
       "3          18          33       121    11\n",
       "4          36           9        26    14"
      ]
     },
     "execution_count": 74,
     "metadata": {},
     "output_type": "execute_result"
    }
   ],
   "source": [
    "csv = pd.read_excel(current_path)\n",
    "csv.head()"
   ]
  },
  {
   "cell_type": "code",
   "execution_count": 75,
   "metadata": {},
   "outputs": [
    {
     "data": {
      "text/html": [
       "<div>\n",
       "<style scoped>\n",
       "    .dataframe tbody tr th:only-of-type {\n",
       "        vertical-align: middle;\n",
       "    }\n",
       "\n",
       "    .dataframe tbody tr th {\n",
       "        vertical-align: top;\n",
       "    }\n",
       "\n",
       "    .dataframe thead th {\n",
       "        text-align: right;\n",
       "    }\n",
       "</style>\n",
       "<table border=\"1\" class=\"dataframe\">\n",
       "  <thead>\n",
       "    <tr style=\"text-align: right;\">\n",
       "      <th></th>\n",
       "      <th>newspaper1</th>\n",
       "      <th>newspaper2</th>\n",
       "      <th>magazine</th>\n",
       "      <th>pack</th>\n",
       "    </tr>\n",
       "  </thead>\n",
       "  <tbody>\n",
       "    <tr>\n",
       "      <th>count</th>\n",
       "      <td>1000.000000</td>\n",
       "      <td>1000.000000</td>\n",
       "      <td>1000.000000</td>\n",
       "      <td>1000.000000</td>\n",
       "    </tr>\n",
       "    <tr>\n",
       "      <th>mean</th>\n",
       "      <td>22.519000</td>\n",
       "      <td>33.281000</td>\n",
       "      <td>45.854000</td>\n",
       "      <td>11.342000</td>\n",
       "    </tr>\n",
       "    <tr>\n",
       "      <th>std</th>\n",
       "      <td>11.778726</td>\n",
       "      <td>17.473104</td>\n",
       "      <td>25.767511</td>\n",
       "      <td>5.652343</td>\n",
       "    </tr>\n",
       "    <tr>\n",
       "      <th>min</th>\n",
       "      <td>5.000000</td>\n",
       "      <td>7.000000</td>\n",
       "      <td>10.000000</td>\n",
       "      <td>2.000000</td>\n",
       "    </tr>\n",
       "    <tr>\n",
       "      <th>25%</th>\n",
       "      <td>14.000000</td>\n",
       "      <td>21.000000</td>\n",
       "      <td>28.000000</td>\n",
       "      <td>7.000000</td>\n",
       "    </tr>\n",
       "    <tr>\n",
       "      <th>50%</th>\n",
       "      <td>20.000000</td>\n",
       "      <td>30.000000</td>\n",
       "      <td>40.000000</td>\n",
       "      <td>10.000000</td>\n",
       "    </tr>\n",
       "    <tr>\n",
       "      <th>75%</th>\n",
       "      <td>27.000000</td>\n",
       "      <td>41.000000</td>\n",
       "      <td>57.000000</td>\n",
       "      <td>14.000000</td>\n",
       "    </tr>\n",
       "    <tr>\n",
       "      <th>max</th>\n",
       "      <td>92.000000</td>\n",
       "      <td>175.000000</td>\n",
       "      <td>237.000000</td>\n",
       "      <td>42.000000</td>\n",
       "    </tr>\n",
       "  </tbody>\n",
       "</table>\n",
       "</div>"
      ],
      "text/plain": [
       "        newspaper1   newspaper2     magazine         pack\n",
       "count  1000.000000  1000.000000  1000.000000  1000.000000\n",
       "mean     22.519000    33.281000    45.854000    11.342000\n",
       "std      11.778726    17.473104    25.767511     5.652343\n",
       "min       5.000000     7.000000    10.000000     2.000000\n",
       "25%      14.000000    21.000000    28.000000     7.000000\n",
       "50%      20.000000    30.000000    40.000000    10.000000\n",
       "75%      27.000000    41.000000    57.000000    14.000000\n",
       "max      92.000000   175.000000   237.000000    42.000000"
      ]
     },
     "execution_count": 75,
     "metadata": {},
     "output_type": "execute_result"
    }
   ],
   "source": [
    "csv.describe()"
   ]
  },
  {
   "cell_type": "code",
   "execution_count": 76,
   "metadata": {},
   "outputs": [
    {
     "name": "stdout",
     "output_type": "stream",
     "text": [
      "newspaper1    22.519\n",
      "newspaper2    33.281\n",
      "magazine      45.854\n",
      "pack          11.342\n",
      "dtype: float64\n"
     ]
    }
   ],
   "source": [
    "demanda_media = csv.mean()\n",
    "print(demanda_media)"
   ]
  },
  {
   "cell_type": "markdown",
   "metadata": {},
   "source": [
    "## Constantes:\n",
    "\n",
    "desconto_pacote : 8% = 0.08"
   ]
  },
  {
   "cell_type": "code",
   "execution_count": 77,
   "metadata": {},
   "outputs": [],
   "source": [
    "desconto_pacote = 0.08"
   ]
  },
  {
   "cell_type": "markdown",
   "metadata": {},
   "source": [
    "## Variáveis de decisão:\n",
    "\n",
    "compra_j1 : Quantidade de jornal 1 comprada.\n",
    "\n",
    "compra_j2 : Quantidade de jornal 2 comprada.\n",
    "\n",
    "compra_magazine : Quantidade de revistas compradas.\n",
    "\n",
    "venda_j1 : Quantidade de jornal 1 vendido.\n",
    "\n",
    "venda_j2 : Quantidade de jornal 2 vendido.\n",
    "\n",
    "venda_magazine : Quantidade de revistas vendidas.\n",
    "\n",
    "venda_pacote : Quantidade de pacotes vendidos."
   ]
  },
  {
   "cell_type": "code",
   "execution_count": 78,
   "metadata": {},
   "outputs": [],
   "source": [
    "from gurobipy import Model, GRB\n",
    "\n",
    "model = Model(\"modelo\")\n",
    "\n",
    "compra_j1 = model.addVar(vtype=GRB.INTEGER)\n",
    "compra_j2 = model.addVar(vtype=GRB.INTEGER)\n",
    "compra_magazine = model.addVar(vtype=GRB.INTEGER)\n",
    "\n",
    "venda_j1 = model.addVar(vtype=GRB.INTEGER)\n",
    "venda_j2 = model.addVar(vtype=GRB.INTEGER)\n",
    "venda_magazine = model.addVar(vtype=GRB.INTEGER)\n",
    "venda_pacote = model.addVar(vtype=GRB.INTEGER)\n",
    "\n",
    "retorno_j1 = model.addVar(vtype=GRB.INTEGER)\n",
    "retorno_j2 = model.addVar(vtype=GRB.INTEGER)\n",
    "\n",
    "model.write(\"model.lp\")"
   ]
  },
  {
   "cell_type": "markdown",
   "metadata": {},
   "source": [
    "## Restrições:\n",
    "\n",
    "#### Demanda probabilistica\n",
    "venda_j1 + retorno_j1 <= demanda_media['newspaper1']\n",
    "\n",
    "venda_j2 + retorno_j2 <= demanda_media['newspaper2']\n",
    "\n",
    "venda_magazine + venda_pacote <= demanda_media['magazine']\n"
   ]
  },
  {
   "cell_type": "code",
   "execution_count": 80,
   "metadata": {},
   "outputs": [],
   "source": [
    "model.addConstr(venda_j1 + retorno_j1 <= demanda_media['newspaper1'])\n",
    "model.addConstr(venda_j2 + retorno_j2 <= demanda_media['newspaper2'])\n",
    "model.addConstr(venda_magazine + venda_pacote <= demanda_media['magazine'])\n",
    "\n",
    "model.write(\"model.lp\")"
   ]
  }
 ],
 "metadata": {
  "kernelspec": {
   "display_name": ".env",
   "language": "python",
   "name": "python3"
  },
  "language_info": {
   "codemirror_mode": {
    "name": "ipython",
    "version": 3
   },
   "file_extension": ".py",
   "mimetype": "text/x-python",
   "name": "python",
   "nbconvert_exporter": "python",
   "pygments_lexer": "ipython3",
   "version": "3.10.2"
  }
 },
 "nbformat": 4,
 "nbformat_minor": 2
}
